{
 "cells": [
  {
   "cell_type": "code",
   "execution_count": 21,
   "metadata": {},
   "outputs": [],
   "source": [
    "import pandas as pd\n",
    "import matplotlib.pyplot as plt"
   ]
  },
  {
   "cell_type": "code",
   "execution_count": 91,
   "metadata": {},
   "outputs": [
    {
     "data": {
      "text/html": [
       "<div>\n",
       "<style scoped>\n",
       "    .dataframe tbody tr th:only-of-type {\n",
       "        vertical-align: middle;\n",
       "    }\n",
       "\n",
       "    .dataframe tbody tr th {\n",
       "        vertical-align: top;\n",
       "    }\n",
       "\n",
       "    .dataframe thead th {\n",
       "        text-align: right;\n",
       "    }\n",
       "</style>\n",
       "<table border=\"1\" class=\"dataframe\">\n",
       "  <thead>\n",
       "    <tr style=\"text-align: right;\">\n",
       "      <th></th>\n",
       "      <th>№ Полиса</th>\n",
       "      <th>Название ПИФ/Индекса</th>\n",
       "      <th>Уст.прод./вал. прод.</th>\n",
       "      <th>Партнер</th>\n",
       "      <th>Ставка купона, %</th>\n",
       "      <th>Доля рис. фонда, %</th>\n",
       "      <th>Процент комиссии, %</th>\n",
       "      <th>Статус</th>\n",
       "      <th>Start date</th>\n",
       "      <th>Expiry date</th>\n",
       "      <th>Buy Date</th>\n",
       "      <th>Sold Date</th>\n",
       "      <th>Сумма премий</th>\n",
       "    </tr>\n",
       "  </thead>\n",
       "  <tbody>\n",
       "    <tr>\n",
       "      <th>0</th>\n",
       "      <td>1</td>\n",
       "      <td>Акции - Алроса</td>\n",
       "      <td>RUB</td>\n",
       "      <td>ХХХ</td>\n",
       "      <td>4.95</td>\n",
       "      <td>14.86</td>\n",
       "      <td>2.71</td>\n",
       "      <td>Подписан</td>\n",
       "      <td>06.10.2023</td>\n",
       "      <td>06.10.2026</td>\n",
       "      <td>08.11.2023</td>\n",
       "      <td>23.09.2026</td>\n",
       "      <td>600000.0</td>\n",
       "    </tr>\n",
       "    <tr>\n",
       "      <th>1</th>\n",
       "      <td>2</td>\n",
       "      <td>Акции - Алроса</td>\n",
       "      <td>RUB</td>\n",
       "      <td>ХХХ</td>\n",
       "      <td>4.95</td>\n",
       "      <td>14.86</td>\n",
       "      <td>2.71</td>\n",
       "      <td>Выпущен</td>\n",
       "      <td>09.10.2023</td>\n",
       "      <td>09.10.2026</td>\n",
       "      <td>15.11.2023</td>\n",
       "      <td>30.09.2026</td>\n",
       "      <td>100000.0</td>\n",
       "    </tr>\n",
       "    <tr>\n",
       "      <th>2</th>\n",
       "      <td>3</td>\n",
       "      <td>Акции - Алроса</td>\n",
       "      <td>RUB</td>\n",
       "      <td>ХХХ</td>\n",
       "      <td>4.95</td>\n",
       "      <td>14.86</td>\n",
       "      <td>2.71</td>\n",
       "      <td>Выпущен</td>\n",
       "      <td>11.10.2023</td>\n",
       "      <td>11.10.2026</td>\n",
       "      <td>15.11.2023</td>\n",
       "      <td>30.09.2026</td>\n",
       "      <td>107384.0</td>\n",
       "    </tr>\n",
       "    <tr>\n",
       "      <th>3</th>\n",
       "      <td>4</td>\n",
       "      <td>Акции - Алроса</td>\n",
       "      <td>RUB</td>\n",
       "      <td>ХХХ</td>\n",
       "      <td>4.95</td>\n",
       "      <td>14.86</td>\n",
       "      <td>2.71</td>\n",
       "      <td>Аннулирован</td>\n",
       "      <td>19.10.2023</td>\n",
       "      <td>19.10.2026</td>\n",
       "      <td>22.11.2023</td>\n",
       "      <td>06.10.2026</td>\n",
       "      <td>0.0</td>\n",
       "    </tr>\n",
       "    <tr>\n",
       "      <th>4</th>\n",
       "      <td>5</td>\n",
       "      <td>Акции - Алроса</td>\n",
       "      <td>RUB</td>\n",
       "      <td>ХХХ</td>\n",
       "      <td>4.95</td>\n",
       "      <td>14.86</td>\n",
       "      <td>2.71</td>\n",
       "      <td>Аннулирован</td>\n",
       "      <td>19.10.2023</td>\n",
       "      <td>19.10.2026</td>\n",
       "      <td>22.11.2023</td>\n",
       "      <td>06.10.2026</td>\n",
       "      <td>0.0</td>\n",
       "    </tr>\n",
       "  </tbody>\n",
       "</table>\n",
       "</div>"
      ],
      "text/plain": [
       "   № Полиса Название ПИФ/Индекса Уст.прод./вал. прод. Партнер  \\\n",
       "0         1       Акции - Алроса                  RUB     ХХХ   \n",
       "1         2       Акции - Алроса                  RUB     ХХХ   \n",
       "2         3       Акции - Алроса                  RUB     ХХХ   \n",
       "3         4       Акции - Алроса                  RUB     ХХХ   \n",
       "4         5       Акции - Алроса                  RUB     ХХХ   \n",
       "\n",
       "   Ставка купона, %  Доля рис. фонда, %  Процент комиссии, %       Статус  \\\n",
       "0              4.95               14.86                 2.71     Подписан   \n",
       "1              4.95               14.86                 2.71      Выпущен   \n",
       "2              4.95               14.86                 2.71      Выпущен   \n",
       "3              4.95               14.86                 2.71  Аннулирован   \n",
       "4              4.95               14.86                 2.71  Аннулирован   \n",
       "\n",
       "   Start date Expiry date    Buy Date   Sold Date  Сумма премий  \n",
       "0  06.10.2023  06.10.2026  08.11.2023  23.09.2026      600000.0  \n",
       "1  09.10.2023  09.10.2026  15.11.2023  30.09.2026      100000.0  \n",
       "2  11.10.2023  11.10.2026  15.11.2023  30.09.2026      107384.0  \n",
       "3  19.10.2023  19.10.2026  22.11.2023  06.10.2026           0.0  \n",
       "4  19.10.2023  19.10.2026  22.11.2023  06.10.2026           0.0  "
      ]
     },
     "execution_count": 91,
     "metadata": {},
     "output_type": "execute_result"
    }
   ],
   "source": [
    "xl=pd.read_excel('/Users/zagranichnyid/Desktop/Тестовое задание/Аналитика-тест данные.xlsx')\n",
    "xl.head(5)"
   ]
  },
  {
   "cell_type": "code",
   "execution_count": 56,
   "metadata": {},
   "outputs": [
    {
     "data": {
      "image/png": "[encoded data removed]",
      "text/plain": [
       "<Figure size 720x432 with 1 Axes>"
      ]
     },
     "metadata": {
      "needs_background": "light"
     },
     "output_type": "display_data"
    }
   ],
   "source": [
    "plt.figure(figsize=(10, 6))\n",
    "xl['Доля рис. фонда, %'].plot(kind='hist', bins=20, edgecolor='black', color='skyblue')\n",
    "plt.title('Распределение Доли рис. фонда, %')\n",
    "plt.xlabel('Доля рис. фонда, %')\n",
    "plt.ylabel('Частота')\n",
    "plt.grid(True)\n",
    "plt.show()"
   ]
  },
  {
   "cell_type": "code",
   "execution_count": 57,
   "metadata": {},
   "outputs": [
    {
     "data": {
      "image/png": "[encoded data removed]",
      "text/plain": [
       "<Figure size 720x432 with 1 Axes>"
      ]
     },
     "metadata": {
      "needs_background": "light"
     },
     "output_type": "display_data"
    }
   ],
   "source": [
    "plt.figure(figsize=(10, 6))\n",
    "xl.boxplot(column='Доля рис. фонда, %')\n",
    "plt.title('Диаграмма размаха Доли рис. фонда, %')\n",
    "plt.ylabel('Доля рис. фонда, %')\n",
    "plt.show()"
   ]
  },
  {
   "cell_type": "code",
   "execution_count": 58,
   "metadata": {},
   "outputs": [
    {
     "name": "stdout",
     "output_type": "stream",
     "text": [
      "Квартиль Q1 (25%): 12.19\n",
      "Квартиль Q2 (50%): 12.19\n",
      "Квартиль Q3 (75%): 13.73\n"
     ]
    }
   ],
   "source": [
    "quartiles = xl['Доля рис. фонда, %'].describe(percentiles=[.25, .5, .75])\n",
    "print(\"Квартиль Q1 (25%):\", quartiles['25%'])\n",
    "print(\"Квартиль Q2 (50%):\", quartiles['50%'])\n",
    "print(\"Квартиль Q3 (75%):\", quartiles['75%'])"
   ]
  },
  {
   "cell_type": "code",
   "execution_count": 59,
   "metadata": {},
   "outputs": [],
   "source": [
    "Q1 = xl['Доля рис. фонда, %'].quantile(0.25)\n",
    "Q3 = xl['Доля рис. фонда, %'].quantile(0.75)\n",
    "IQR = Q3 - Q1"
   ]
  },
  {
   "cell_type": "code",
   "execution_count": 60,
   "metadata": {},
   "outputs": [],
   "source": [
    "lower_bound = Q1 - 1.5 * IQR\n",
    "upper_bound = Q3 + 1.5 * IQR"
   ]
  },
  {
   "cell_type": "code",
   "execution_count": 90,
   "metadata": {},
   "outputs": [
    {
     "data": {
      "text/html": [
       "<div>\n",
       "<style scoped>\n",
       "    .dataframe tbody tr th:only-of-type {\n",
       "        vertical-align: middle;\n",
       "    }\n",
       "\n",
       "    .dataframe tbody tr th {\n",
       "        vertical-align: top;\n",
       "    }\n",
       "\n",
       "    .dataframe thead th {\n",
       "        text-align: right;\n",
       "    }\n",
       "</style>\n",
       "<table border=\"1\" class=\"dataframe\">\n",
       "  <thead>\n",
       "    <tr style=\"text-align: right;\">\n",
       "      <th></th>\n",
       "      <th>№ Полиса</th>\n",
       "      <th>Название ПИФ/Индекса</th>\n",
       "      <th>Уст.прод./вал. прод.</th>\n",
       "      <th>Партнер</th>\n",
       "      <th>Ставка купона, %</th>\n",
       "      <th>Доля рис. фонда, %</th>\n",
       "      <th>Процент комиссии, %</th>\n",
       "      <th>Статус</th>\n",
       "      <th>Start date</th>\n",
       "      <th>Expiry date</th>\n",
       "      <th>Buy Date</th>\n",
       "      <th>Sold Date</th>\n",
       "      <th>Сумма премий</th>\n",
       "    </tr>\n",
       "  </thead>\n",
       "  <tbody>\n",
       "    <tr>\n",
       "      <th>6</th>\n",
       "      <td>7</td>\n",
       "      <td>Акции - Алроса</td>\n",
       "      <td>RUB</td>\n",
       "      <td>ХХХ</td>\n",
       "      <td>4.3</td>\n",
       "      <td>21.49</td>\n",
       "      <td>5.16</td>\n",
       "      <td>Выпущен</td>\n",
       "      <td>2023-11-21</td>\n",
       "      <td>2028-11-21</td>\n",
       "      <td>2023-12-27</td>\n",
       "      <td>2028-11-15</td>\n",
       "      <td>185529.0</td>\n",
       "    </tr>\n",
       "    <tr>\n",
       "      <th>7</th>\n",
       "      <td>8</td>\n",
       "      <td>Акции - Алроса</td>\n",
       "      <td>RUB</td>\n",
       "      <td>ХХХ</td>\n",
       "      <td>4.3</td>\n",
       "      <td>21.49</td>\n",
       "      <td>5.16</td>\n",
       "      <td>Черновик</td>\n",
       "      <td>2023-12-12</td>\n",
       "      <td>2028-12-12</td>\n",
       "      <td>2024-01-17</td>\n",
       "      <td>2028-11-22</td>\n",
       "      <td>2000000.0</td>\n",
       "    </tr>\n",
       "    <tr>\n",
       "      <th>11</th>\n",
       "      <td>12</td>\n",
       "      <td>Акции - АФК Система</td>\n",
       "      <td>RUB</td>\n",
       "      <td>ХХХ</td>\n",
       "      <td>4.3</td>\n",
       "      <td>21.49</td>\n",
       "      <td>5.16</td>\n",
       "      <td>Выпущен</td>\n",
       "      <td>2023-09-10</td>\n",
       "      <td>2028-09-10</td>\n",
       "      <td>2023-08-11</td>\n",
       "      <td>2028-09-27</td>\n",
       "      <td>500000.0</td>\n",
       "    </tr>\n",
       "    <tr>\n",
       "      <th>12</th>\n",
       "      <td>13</td>\n",
       "      <td>Акции - АФК Система</td>\n",
       "      <td>RUB</td>\n",
       "      <td>ХХХ</td>\n",
       "      <td>4.3</td>\n",
       "      <td>21.49</td>\n",
       "      <td>5.16</td>\n",
       "      <td>Подписан</td>\n",
       "      <td>2023-03-11</td>\n",
       "      <td>2028-03-11</td>\n",
       "      <td>2023-06-12</td>\n",
       "      <td>2028-10-25</td>\n",
       "      <td>350000.0</td>\n",
       "    </tr>\n",
       "    <tr>\n",
       "      <th>19</th>\n",
       "      <td>20</td>\n",
       "      <td>Акции - ВТБ</td>\n",
       "      <td>RUB</td>\n",
       "      <td>ХХХ</td>\n",
       "      <td>4.3</td>\n",
       "      <td>21.49</td>\n",
       "      <td>5.16</td>\n",
       "      <td>Выпущен</td>\n",
       "      <td>2023-10-17</td>\n",
       "      <td>2028-10-17</td>\n",
       "      <td>2023-11-22</td>\n",
       "      <td>2028-11-10</td>\n",
       "      <td>350000.0</td>\n",
       "    </tr>\n",
       "  </tbody>\n",
       "</table>\n",
       "</div>"
      ],
      "text/plain": [
       "    № Полиса Название ПИФ/Индекса Уст.прод./вал. прод. Партнер  \\\n",
       "6          7       Акции - Алроса                  RUB     ХХХ   \n",
       "7          8       Акции - Алроса                  RUB     ХХХ   \n",
       "11        12  Акции - АФК Система                  RUB     ХХХ   \n",
       "12        13  Акции - АФК Система                  RUB     ХХХ   \n",
       "19        20          Акции - ВТБ                  RUB     ХХХ   \n",
       "\n",
       "    Ставка купона, %  Доля рис. фонда, %  Процент комиссии, %    Статус  \\\n",
       "6                4.3               21.49                 5.16   Выпущен   \n",
       "7                4.3               21.49                 5.16  Черновик   \n",
       "11               4.3               21.49                 5.16   Выпущен   \n",
       "12               4.3               21.49                 5.16  Подписан   \n",
       "19               4.3               21.49                 5.16   Выпущен   \n",
       "\n",
       "   Start date Expiry date   Buy Date  Sold Date  Сумма премий  \n",
       "6  2023-11-21  2028-11-21 2023-12-27 2028-11-15      185529.0  \n",
       "7  2023-12-12  2028-12-12 2024-01-17 2028-11-22     2000000.0  \n",
       "11 2023-09-10  2028-09-10 2023-08-11 2028-09-27      500000.0  \n",
       "12 2023-03-11  2028-03-11 2023-06-12 2028-10-25      350000.0  \n",
       "19 2023-10-17  2028-10-17 2023-11-22 2028-11-10      350000.0  "
      ]
     },
     "execution_count": 90,
     "metadata": {},
     "output_type": "execute_result"
    }
   ],
   "source": [
    "outliers = xl[(xl['Доля рис. фонда, %'] < lower_bound) | (xl['Доля рис. фонда, %'] > upper_bound)]\n",
    "outliers.head(5)\n"
   ]
  },
  {
   "cell_type": "code",
   "execution_count": 88,
   "metadata": {},
   "outputs": [
    {
     "data": {
      "text/plain": [
       "№ Полиса               0.033316\n",
       "Ставка купона, %       0.296989\n",
       "Доля рис. фонда, %     1.000000\n",
       "Процент комиссии, %    0.078209\n",
       "Сумма премий           0.038854\n",
       "Name: Доля рис. фонда, %, dtype: float64"
      ]
     },
     "execution_count": 88,
     "metadata": {},
     "output_type": "execute_result"
    }
   ],
   "source": [
    "correlations = xl.corr()['Доля рис. фонда, %']\n",
    "correlations"
   ]
  },
  {
   "cell_type": "markdown",
   "metadata": {},
   "source": [
    "Исходя из выявленных коэффициентов корреляции:\n",
    "\n",
    "1. Показатель с наибольшей корреляцией с \"Доля рис. фонда, %\" (показатель 1.000000) - сам с собой, что естественно.\n",
    "\n",
    "2. Показатель с наибольшей корреляцией, не учитывая самого себя:\n",
    "   - Ставка купона, % (коэффициент корреляции 0.296989).\n",
    "\n",
    "Таким образом, из предоставленных показателей \"Ставка купона, %\" имеет наибольшую корреляцию с \"Доля рис. фонда, %\". Это может свидетельствовать о наличии некоторой статистической взаимосвязи между этими двумя показателями."
   ]
  },
  {
   "cell_type": "code",
   "execution_count": 87,
   "metadata": {},
   "outputs": [
    {
     "data": {
      "text/plain": [
       "array(['Подписан', 'Выпущен', 'Аннулирован', 'Черновик', 'Смерть',\n",
       "       'Расторгнут', 'Отменен', 'Уведом о смерти'], dtype=object)"
      ]
     },
     "execution_count": 87,
     "metadata": {},
     "output_type": "execute_result"
    }
   ],
   "source": [
    "xl[['Start date','Expiry date','Buy Date','Sold Date']] = xl[['Start date','Expiry date','Buy Date','Sold Date']].apply(pd.to_datetime)\n",
    "xl['Статус'].unique()"
   ]
  },
  {
   "cell_type": "code",
   "execution_count": 86,
   "metadata": {},
   "outputs": [],
   "source": [
    "mask_fosagro_death = (xl['Название ПИФ/Индекса'] == 'Акции - Фосагро') & (xl['Статус'].isin(['Смерть', 'Уведом о смерти']))"
   ]
  },
  {
   "cell_type": "code",
   "execution_count": 80,
   "metadata": {},
   "outputs": [],
   "source": [
    "df_fosagro_death = xl[mask_fosagro_death]\n",
    "df_other_contracts = xl[~mask_fosagro_death]"
   ]
  }
 ],
 "metadata": {
  "kernelspec": {
   "display_name": "base",
   "language": "python",
   "name": "python3"
  },
  "language_info": {
   "codemirror_mode": {
    "name": "ipython",
    "version": 3
   },
   "file_extension": ".py",
   "mimetype": "text/x-python",
   "name": "python",
   "nbconvert_exporter": "python",
   "pygments_lexer": "ipython3",
   "version": "3.9.12"
  },
  "orig_nbformat": 4
 },
 "nbformat": 4,
 "nbformat_minor": 2
}
